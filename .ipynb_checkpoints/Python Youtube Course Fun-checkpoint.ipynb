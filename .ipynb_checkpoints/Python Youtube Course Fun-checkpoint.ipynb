{
 "cells": [
  {
   "cell_type": "markdown",
   "metadata": {},
   "source": [
    "# Titel: Python Youtube Full Course"
   ]
  },
  {
   "cell_type": "markdown",
   "metadata": {},
   "source": [
    "Working With Strings"
   ]
  },
  {
   "cell_type": "code",
   "execution_count": 97,
   "metadata": {},
   "outputs": [
    {
     "name": "stdout",
     "output_type": "stream",
     "text": [
      "True\n",
      "21\n",
      "H\n",
      "13\n",
      "Hjortestring BOSTED\n"
     ]
    }
   ],
   "source": [
    "phrase = \"Hjortestring Kolliget\"\n",
    "print(phrase.upper().isupper()) \n",
    "print(len(phrase))\n",
    "print(phrase[0])\n",
    "print(phrase.index(\"K\"))\n",
    "print(phrase.replace(\"Kolliget\", \"BOSTED\"))"
   ]
  },
  {
   "cell_type": "markdown",
   "metadata": {},
   "source": [
    "Working with Numbers"
   ]
  },
  {
   "cell_type": "code",
   "execution_count": 28,
   "metadata": {},
   "outputs": [
    {
     "name": "stdout",
     "output_type": "stream",
     "text": [
      "5 numbers\n",
      "20\n",
      "1024.0\n",
      "6\n",
      "3\n",
      "4\n",
      "3\n",
      "4\n",
      "6.0\n"
     ]
    }
   ],
   "source": [
    "from math import *\n",
    "x = 5\n",
    "z = -20\n",
    "print(str(x) + \" numbers\")\n",
    "print(abs(z))\n",
    "print(pow(2, 10))\n",
    "print(max(3,6))\n",
    "print(min(3,6))\n",
    "print(round(3.6))\n",
    "print(floor(3.6))\n",
    "print(ceil(ceil(3.4)))\n",
    "print(sqrt(36))"
   ]
  },
  {
   "cell_type": "markdown",
   "metadata": {},
   "source": [
    "Getting Input From User"
   ]
  },
  {
   "cell_type": "code",
   "execution_count": 31,
   "metadata": {},
   "outputs": [
    {
     "name": "stdout",
     "output_type": "stream",
     "text": [
      "Enter Your Name: rasmus\n",
      "Enter Your age: 22\n",
      "hej rasmus!\n",
      "you are 22\n"
     ]
    }
   ],
   "source": [
    "name = input(\"Enter Your Name: \")\n",
    "age = input(\"Enter Your age: \")\n",
    "print(\"hej \" + name + \"!\")\n",
    "print(\"you are \" + age)\n"
   ]
  },
  {
   "cell_type": "markdown",
   "metadata": {},
   "source": [
    "Bulding a Basic Calulator"
   ]
  },
  {
   "cell_type": "code",
   "execution_count": 36,
   "metadata": {},
   "outputs": [
    {
     "name": "stdout",
     "output_type": "stream",
     "text": [
      "Enter a Number: 3.4\n",
      "Enter a Number: 3.4\n",
      "6.8\n"
     ]
    }
   ],
   "source": [
    "number1  = input(\"Enter a Number: \")\n",
    "number2  = input(\"Enter a Number: \")\n",
    "res = float(number1) + float(number2)\n",
    "print(res)"
   ]
  },
  {
   "cell_type": "markdown",
   "metadata": {},
   "source": [
    "Lists"
   ]
  },
  {
   "cell_type": "code",
   "execution_count": 59,
   "metadata": {},
   "outputs": [
    {
     "name": "stdout",
     "output_type": "stream",
     "text": [
      "['andreas', 'danni', 'oliver', 'adam']\n",
      "andreas\n",
      "['oliver', 'adam']\n",
      "['mike', 'emma', 'danni', 'oliver', 'adam', 4, 8, 15, 16, 23, 42, 'mikkel']\n",
      "2\n",
      "1\n",
      "[0, 1, 3, 3, 5, 6, 9, 9, 64, 100]\n"
     ]
    }
   ],
   "source": [
    "lucky_numbers = [4,8,15,16,23,42]\n",
    "friends = [\"andreas\", \"danni\" , \"oliver\", \"adam\"]\n",
    "print(friends)\n",
    "print(friends[0])\n",
    "print(friends[2:])\n",
    "friends[0] = \"mike\"\n",
    "friends.extend(lucky_numbers)\n",
    "friends.append(\"mikkel\")\n",
    "friends.insert(1, \"emma\")\n",
    "#friends.remove(\"mikkel\")\n",
    "#friends.pop()  #remove last element\n",
    "print(friends)\n",
    "print(friends.index(\"danni\"))\n",
    "print(friends.count(\"danni\"))\n",
    "\n",
    "numbers = [3,3,6,1,9,5,9,0,100,64]\n",
    "numbers.sort()\n",
    "print(numbers)\n",
    "\n"
   ]
  },
  {
   "cell_type": "markdown",
   "metadata": {},
   "source": [
    "functions"
   ]
  },
  {
   "cell_type": "code",
   "execution_count": 77,
   "metadata": {},
   "outputs": [
    {
     "name": "stdout",
     "output_type": "stream",
     "text": [
      "Hello Jens , you are 35\n",
      "Hello Steve , you are 95\n",
      "Hello John , you are 15\n"
     ]
    }
   ],
   "source": [
    "def sayhi(name, age):\n",
    "    print(\"Hello \"+ name + \" , you are \" + str(age))\n",
    "\n",
    "sayhi(\"Jens\", 35)\n",
    "sayhi(\"Steve\", 95)\n",
    "sayhi(\"John\", 15)"
   ]
  },
  {
   "cell_type": "markdown",
   "metadata": {},
   "source": [
    "Return statement"
   ]
  },
  {
   "cell_type": "code",
   "execution_count": 80,
   "metadata": {},
   "outputs": [
    {
     "name": "stdout",
     "output_type": "stream",
     "text": [
      "64\n"
     ]
    }
   ],
   "source": [
    "def cube(num):\n",
    "    return num*num*num\n",
    "\n",
    "res = cube(4)\n",
    "print(res)"
   ]
  },
  {
   "cell_type": "markdown",
   "metadata": {},
   "source": [
    "if statement"
   ]
  },
  {
   "cell_type": "code",
   "execution_count": 81,
   "metadata": {},
   "outputs": [
    {
     "name": "stdout",
     "output_type": "stream",
     "text": [
      "you are a tall male\n"
     ]
    }
   ],
   "source": [
    "is_male = True\n",
    "is_tall = True\n",
    "\n",
    "if is_male and is_tall:\n",
    "    print(\"you are a tall male\")\n",
    "elif is_male and not(is_tall):\n",
    "    print(\"you are a short male\")\n",
    "elif not(is_male) and is_tall:\n",
    "    print(\"you are not a male, but you are tall\")\n",
    "else:\n",
    "    print(\"you are not a male and bot tall\")"
   ]
  },
  {
   "cell_type": "code",
   "execution_count": 85,
   "metadata": {},
   "outputs": [
    {
     "name": "stdout",
     "output_type": "stream",
     "text": [
      "20\n"
     ]
    }
   ],
   "source": [
    "def max_num(num1, num2, num3):\n",
    "    if num1 >= num2 and num1 >= num3:\n",
    "        return num1\n",
    "    elif num2 >= num1 and num2 >= num3:\n",
    "        return num2\n",
    "    else:\n",
    "        return num3\n",
    "    \n",
    "res = max_num(5,20,3)\n",
    "print(res)"
   ]
  },
  {
   "cell_type": "markdown",
   "metadata": {},
   "source": [
    "building a Better Calulator"
   ]
  },
  {
   "cell_type": "code",
   "execution_count": 98,
   "metadata": {},
   "outputs": [
    {
     "name": "stdout",
     "output_type": "stream",
     "text": [
      "Enter first number: 5\n",
      "Enter operator: *\n",
      "Enter secound number: 5\n",
      "25.0\n"
     ]
    }
   ],
   "source": [
    "num1 = float(input(\"Enter first number: \"))\n",
    "op = input(\"Enter operator: \")\n",
    "num2 = float(input(\"Enter secound number: \"))\n",
    "if op == \"+\":\n",
    "    print(num1 + num2)\n",
    "elif op == \"-\":\n",
    "    print(num1 - num2)\n",
    "elif op ==\"/\":\n",
    "    print(num1 / num2)\n",
    "elif op ==\"*\":\n",
    "    print(num1*num2)\n",
    "else:\n",
    "    print(\"Invalid operator\")"
   ]
  },
  {
   "cell_type": "markdown",
   "metadata": {},
   "source": [
    "Dictionares"
   ]
  },
  {
   "cell_type": "code",
   "execution_count": 104,
   "metadata": {},
   "outputs": [
    {
     "name": "stdout",
     "output_type": "stream",
     "text": [
      "not a valid key\n"
     ]
    }
   ],
   "source": [
    "monthConversions = {\n",
    "    1:\"January\",\n",
    "    2: \"February\",\n",
    "    \"Mar\": \"March\",\n",
    "    \"Apr\": \"April\",\n",
    "    \"May\": \"May\",\n",
    "    \"Jun\": \"June\",\n",
    "    \"Jul\": \"July\",\n",
    "    \"Aug\": \"August\",\n",
    "    \"Sep\": \"September\",\n",
    "    \"Oct\": \"October\",\n",
    "    \"Nov\": \"November\",\n",
    "    \"Dec\": \"December\",\n",
    "}\n",
    "print(monthConversions.get(5, \"not a valid key\"))\n",
    "\n"
   ]
  },
  {
   "cell_type": "markdown",
   "metadata": {},
   "source": [
    "Gussing game"
   ]
  },
  {
   "cell_type": "code",
   "execution_count": 4,
   "metadata": {},
   "outputs": [
    {
     "name": "stdout",
     "output_type": "stream",
     "text": [
      "Enter Guesshjort\n",
      "You win\n"
     ]
    }
   ],
   "source": [
    "secret_word = \"hjort\"\n",
    "guess = \"\"\n",
    "guess_count = 0\n",
    "guess_limit = 3\n",
    "out_of_guesses = False\n",
    "\n",
    "\n",
    "while guess != secret_word and not(out_of_guesses):\n",
    "    if guess_count < guess_limit:\n",
    "        guess = input(\"Enter Guess: \")\n",
    "        guess_count += 1\n",
    "    else:\n",
    "        out_of_guesses = True\n",
    "        \n",
    "if out_of_guesses:\n",
    "    print(\"Out of Guesses, YOU LOSE\")\n",
    "else:\n",
    "    print(\"You win\")"
   ]
  },
  {
   "cell_type": "markdown",
   "metadata": {},
   "source": [
    "for Loops"
   ]
  },
  {
   "cell_type": "code",
   "execution_count": 12,
   "metadata": {},
   "outputs": [
    {
     "name": "stdout",
     "output_type": "stream",
     "text": [
      "8\n"
     ]
    }
   ],
   "source": [
    "def raise_to_power(base_num, pow_num):\n",
    "    result = 1\n",
    "    for index in range(pow_num):\n",
    "        result = result * base_num\n",
    "    return result\n",
    "\n",
    "print(raise_to_power(2,3))\n"
   ]
  },
  {
   "cell_type": "markdown",
   "metadata": {},
   "source": [
    "2d List & Nested L"
   ]
  },
  {
   "cell_type": "code",
   "execution_count": 26,
   "metadata": {},
   "outputs": [
    {
     "name": "stdout",
     "output_type": "stream",
     "text": [
      "[2, 3, 4]\n",
      "2\n",
      "3\n",
      "4\n",
      "1\n",
      "7\n",
      "4\n",
      "1\n",
      "8\n",
      "5\n",
      "0\n"
     ]
    }
   ],
   "source": [
    "numbers = [\n",
    "    [2,3,4],\n",
    "    [1,7,4],\n",
    "    [1,8,5],\n",
    "    [0]\n",
    "]\n",
    "print(numbers[0])\n",
    "\n",
    "for row in numbers:\n",
    "    #print(row)\n",
    "    for col in row:\n",
    "        print(col)"
   ]
  },
  {
   "cell_type": "markdown",
   "metadata": {},
   "source": [
    "TransLaTor"
   ]
  },
  {
   "cell_type": "code",
   "execution_count": 30,
   "metadata": {},
   "outputs": [
    {
     "name": "stdout",
     "output_type": "stream",
     "text": [
      "Enter a Phrase: Hallo\n",
      "Hgllg\n"
     ]
    }
   ],
   "source": [
    "def translate(phrase):\n",
    "    translation = \"\"\n",
    "    for letter in phrase:\n",
    "        if letter.lower() in \"aeiou\":\n",
    "            if letter.isupper():\n",
    "                translation = translation + \"G\"\n",
    "            else:\n",
    "                translation = translation + \"g\"\n",
    "        else:\n",
    "            translation = translation + letter\n",
    "    return translation\n",
    "\n",
    "print(translate(input(\"Enter a Phrase: \")))\n",
    "        "
   ]
  },
  {
   "cell_type": "markdown",
   "metadata": {},
   "source": [
    "try & except"
   ]
  },
  {
   "cell_type": "code",
   "execution_count": 34,
   "metadata": {},
   "outputs": [
    {
     "name": "stdout",
     "output_type": "stream",
     "text": [
      "Enter a number plz: fge\n",
      "plz Not a Letter\n"
     ]
    }
   ],
   "source": [
    "try:\n",
    "    number = int(input(\"Enter a number plz: \"))\n",
    "    print(number)\n",
    "#except ValueError as err:\n",
    "    print(err)\n",
    "except ValueError:\n",
    "    print(\"plz Not a Letter\")\n",
    "    "
   ]
  },
  {
   "cell_type": "markdown",
   "metadata": {},
   "source": [
    "reading from a file"
   ]
  },
  {
   "cell_type": "code",
   "execution_count": 47,
   "metadata": {},
   "outputs": [
    {
     "name": "stdout",
     "output_type": "stream",
     "text": [
      "random \n",
      "\n",
      " random \n",
      "\n",
      " random \n"
     ]
    }
   ],
   "source": [
    "employee_file = open(\"file.txt\", \"r\")\n",
    "\n",
    "#print(employee_file.readable)\n",
    "#print(employee_file.read())\n",
    "#print(employee_file.readline())\n",
    "#print(employee_file.readlines())\n",
    "\n",
    "for employee in employee_file.readlines():\n",
    "    print(employee)\n",
    "\n",
    "employee_file.close()"
   ]
  },
  {
   "cell_type": "markdown",
   "metadata": {},
   "source": [
    "Writning to file"
   ]
  },
  {
   "cell_type": "code",
   "execution_count": 39,
   "metadata": {},
   "outputs": [],
   "source": [
    "employee_file = open(\"file.txt\", \"a\")\n",
    "employee_file.write(\"\\n random \")\n",
    "\n",
    "employee_file.close()"
   ]
  },
  {
   "cell_type": "markdown",
   "metadata": {},
   "source": [
    "Classes & Objects"
   ]
  },
  {
   "cell_type": "code",
   "execution_count": 3,
   "metadata": {},
   "outputs": [
    {
     "name": "stdout",
     "output_type": "stream",
     "text": [
      "jim\n"
     ]
    }
   ],
   "source": [
    "class Student:\n",
    "    def __init__(self, name, major, gpa, is_on_probation):\n",
    "        self.name = name\n",
    "        self.major = major\n",
    "        self.gpa = gpa\n",
    "        self.is_on_probation = is_on_probation\n",
    "\n",
    "student1 = Student(\"jim\", \"prog\", 2.1, False)\n",
    "print(student1.name)"
   ]
  },
  {
   "cell_type": "markdown",
   "metadata": {},
   "source": [
    "mutipulChoice Quiz"
   ]
  },
  {
   "cell_type": "code",
   "execution_count": 31,
   "metadata": {},
   "outputs": [
    {
     "name": "stdout",
     "output_type": "stream",
     "text": [
      "what color are Apples?\n",
      "(a) Red/Green\n",
      "(b) Purple\n",
      "(c) Orange\n",
      "\n",
      "a\n",
      "what color are Bananas?\n",
      "(a) Teal\n",
      "(b) Blue\n",
      "(c) Yellow\n",
      "\n",
      "c\n",
      "what color are Strawberries?\n",
      "(a) Yellow\n",
      "(b) Red\n",
      "(c) Black\n",
      "\n",
      "b\n",
      "you got: 3/3 correct!\n",
      "jubiiiiiiiii :-)\n"
     ]
    }
   ],
   "source": [
    "class Questions:\n",
    "    def __init__(self,prompt, answer ):\n",
    "        self.prompt = prompt\n",
    "        self.answer = answer\n",
    "\n",
    "        \n",
    "        \n",
    "qustion_prompts = [\n",
    "    \"what color are Apples?\\n(a) Red/Green\\n(b) Purple\\n(c) Orange\\n\\n\",\n",
    "    \"what color are Bananas?\\n(a) Teal\\n(b) Blue\\n(c) Yellow\\n\\n\",\n",
    "    \"what color are Strawberries?\\n(a) Yellow\\n(b) Red\\n(c) Black\\n\\n\"  \n",
    "]       \n",
    "           \n",
    "\n",
    "qustions = [\n",
    "    Questions(qustion_prompts[0], \"a\"),\n",
    "    Questions(qustion_prompts[1], \"c\"),\n",
    "    Questions(qustion_prompts[2], \"b\"),\n",
    "]\n",
    "\n",
    "def run_test(qustions):\n",
    "    score = 0\n",
    "    for qustion in qustions:\n",
    "        answer = input(qustion.prompt)\n",
    "        if answer == qustion.answer:\n",
    "            score +=1\n",
    "    print(\"you got: \" + str(score)+ \"/\" + str(len(qustions))+ \" correct!\")\n",
    "    if score == 3:\n",
    "        print(\"jubiiiiiiiii :-)\")\n",
    "    else:\n",
    "        print(\"better luck next time...\")\n",
    "\n",
    "run_test(qustions)"
   ]
  }
 ],
 "metadata": {
  "kernelspec": {
   "display_name": "Python 3",
   "language": "python",
   "name": "python3"
  },
  "language_info": {
   "codemirror_mode": {
    "name": "ipython",
    "version": 3
   },
   "file_extension": ".py",
   "mimetype": "text/x-python",
   "name": "python",
   "nbconvert_exporter": "python",
   "pygments_lexer": "ipython3",
   "version": "3.7.1"
  }
 },
 "nbformat": 4,
 "nbformat_minor": 2
}
