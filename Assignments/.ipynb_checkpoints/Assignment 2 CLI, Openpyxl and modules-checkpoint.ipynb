{
 "cells": [
  {
   "cell_type": "markdown",
   "metadata": {},
   "source": [
    "# Assignment 2: CLI, Openpyxl and modules\n",
    "This assignment will make you work with files, command-line and objects\n",
    "\n",
    "\n",
    "# Part 1: Download script¶\n",
    "Write a program download_script.py, which downloads a set of files from the internet. The files to download are given as arguments to your program on the command-line as illustrated in the following:\n",
    "\n",
    "$ python download_script.py http://www.gutenberg.org/files/2701/2701-0.txt \n",
    "\n",
    "http://www.gutenberg.org/cache/epub/27525/pg27525.txt\n",
    "  Downloading file to ./2701-0.txt\n",
    "  Downloading file to ./pg27525.txt\n",
    "\n",
    "Reuse your `webget` module from exercises in 07-Functions and Modules."
   ]
  },
  {
   "cell_type": "code",
   "execution_count": null,
   "metadata": {},
   "outputs": [],
   "source": []
  },
  {
   "cell_type": "code",
   "execution_count": null,
   "metadata": {},
   "outputs": [],
   "source": []
  },
  {
   "cell_type": "markdown",
   "metadata": {},
   "source": [
    "\n",
    "# Part 2: Reading .xlsx files\n",
    "Write a program that converts the Excel spreadsheet ./iris_data.xlsx into a CSV file with the same data.\n",
    "\n",
    "Start with writing a unit test against which you implement your solution. \n",
    "You are welcome to use a framework for this, but it can also simply be a function that you call with an expected outcome"
   ]
  },
  {
   "cell_type": "code",
   "execution_count": null,
   "metadata": {},
   "outputs": [],
   "source": []
  }
 ],
 "metadata": {
  "kernelspec": {
   "display_name": "Python 3",
   "language": "python",
   "name": "python3"
  },
  "language_info": {
   "codemirror_mode": {
    "name": "ipython",
    "version": 3
   },
   "file_extension": ".py",
   "mimetype": "text/x-python",
   "name": "python",
   "nbconvert_exporter": "python",
   "pygments_lexer": "ipython3",
   "version": "3.7.1"
  }
 },
 "nbformat": 4,
 "nbformat_minor": 2
}
