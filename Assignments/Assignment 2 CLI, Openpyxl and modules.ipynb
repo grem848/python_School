{
 "cells": [
  {
   "cell_type": "markdown",
   "metadata": {},
   "source": [
    "# Assignment 2: CLI, Openpyxl and modules\n",
    "This assignment will make you work with files, command-line and objects\n",
    "\n",
    "\n",
    "# Part 1: Download script¶\n",
    "Write a program download_script.py, which downloads a set of files from the internet. The files to download are given as arguments to your program on the command-line as illustrated in the following:\n",
    "\n",
    "$ python download_script.py http://www.gutenberg.org/files/2701/2701-0.txt \n",
    "\n",
    "http://www.gutenberg.org/cache/epub/27525/pg27525.txt\n",
    "  Downloading file to ./2701-0.txt\n",
    "  Downloading file to ./pg27525.txt\n",
    "\n",
    "Reuse your `webget` module from exercises in 07-Functions and Modules."
   ]
  },
  {
   "cell_type": "code",
   "execution_count": null,
   "metadata": {},
   "outputs": [],
   "source": []
  },
  {
   "cell_type": "code",
   "execution_count": null,
   "metadata": {},
   "outputs": [],
   "source": []
  },
  {
   "cell_type": "markdown",
   "metadata": {},
   "source": [
    "\n",
    "# Part 2: Reading .xlsx files\n",
    "Write a program that converts the Excel spreadsheet ./iris_data.xlsx into a CSV file with the same data.\n",
    "\n",
    "Start with writing a unit test against which you implement your solution. \n",
    "You are welcome to use a framework for this, but it can also simply be a function that you call with an expected outcome"
   ]
  },
  {
   "cell_type": "code",
   "execution_count": 3,
   "metadata": {},
   "outputs": [
    {
     "name": "stdout",
     "output_type": "stream",
     "text": [
      "[\"Fisher's Iris Data\"]\n"
     ]
    },
    {
     "name": "stderr",
     "output_type": "stream",
     "text": [
      "C:\\Users\\rasmu\\Anaconda3\\lib\\site-packages\\ipykernel_launcher.py:6: DeprecationWarning: Call to deprecated function get_sheet_names (Use wb.sheetnames).\n",
      "  \n"
     ]
    }
   ],
   "source": [
    "import openpyxl\n",
    "\n",
    "# created from: https://en.wikipedia.org/wiki/Iris_flower_data_set#Data_set\n",
    "filename = './iris_data.xlsx'\n",
    "wb = openpyxl.load_workbook(filename)\n",
    "\n",
    "print(wb.get_sheet_names())\n",
    "\n"
   ]
  },
  {
   "cell_type": "code",
   "execution_count": 36,
   "metadata": {},
   "outputs": [
    {
     "ename": "AttributeError",
     "evalue": "'Workbook' object has no attribute 'get_sheet_name'",
     "output_type": "error",
     "traceback": [
      "\u001b[1;31m---------------------------------------------------------------------------\u001b[0m",
      "\u001b[1;31mAttributeError\u001b[0m                            Traceback (most recent call last)",
      "\u001b[1;32m<ipython-input-36-6632e867a460>\u001b[0m in \u001b[0;36m<module>\u001b[1;34m\u001b[0m\n\u001b[0;32m     20\u001b[0m     \u001b[0mfh\u001b[0m\u001b[1;33m.\u001b[0m\u001b[0mclose\u001b[0m\u001b[1;33m(\u001b[0m\u001b[1;33m)\u001b[0m\u001b[1;33m\u001b[0m\u001b[1;33m\u001b[0m\u001b[0m\n\u001b[0;32m     21\u001b[0m \u001b[1;33m\u001b[0m\u001b[0m\n\u001b[1;32m---> 22\u001b[1;33m \u001b[0mxls2csv\u001b[0m\u001b[1;33m(\u001b[0m\u001b[1;34m\"./iris_data.xlsx\"\u001b[0m\u001b[1;33m,\u001b[0m\u001b[1;34m\"./output.csv\"\u001b[0m \u001b[1;33m)\u001b[0m\u001b[1;33m\u001b[0m\u001b[1;33m\u001b[0m\u001b[0m\n\u001b[0m",
      "\u001b[1;32m<ipython-input-36-6632e867a460>\u001b[0m in \u001b[0;36mxls2csv\u001b[1;34m(xls_filename, csv_filename)\u001b[0m\n\u001b[0;32m     10\u001b[0m \u001b[1;33m\u001b[0m\u001b[0m\n\u001b[0;32m     11\u001b[0m     \u001b[0mwb\u001b[0m \u001b[1;33m=\u001b[0m \u001b[0mopenpyxl\u001b[0m\u001b[1;33m.\u001b[0m\u001b[0mload_workbook\u001b[0m\u001b[1;33m(\u001b[0m\u001b[0mxls_filename\u001b[0m\u001b[1;33m)\u001b[0m\u001b[1;33m\u001b[0m\u001b[1;33m\u001b[0m\u001b[0m\n\u001b[1;32m---> 12\u001b[1;33m     \u001b[0msh\u001b[0m \u001b[1;33m=\u001b[0m \u001b[0mwb\u001b[0m\u001b[1;33m.\u001b[0m\u001b[0mget_sheet_name\u001b[0m\u001b[1;33m(\u001b[0m\u001b[1;33m)\u001b[0m\u001b[1;33m\u001b[0m\u001b[1;33m\u001b[0m\u001b[0m\n\u001b[0m\u001b[0;32m     13\u001b[0m \u001b[1;33m\u001b[0m\u001b[0m\n\u001b[0;32m     14\u001b[0m     \u001b[0mfh\u001b[0m \u001b[1;33m=\u001b[0m \u001b[0mopen\u001b[0m\u001b[1;33m(\u001b[0m\u001b[0mcsv_filename\u001b[0m\u001b[1;33m,\u001b[0m\u001b[1;34m\"wb\"\u001b[0m\u001b[1;33m)\u001b[0m\u001b[1;33m\u001b[0m\u001b[1;33m\u001b[0m\u001b[0m\n",
      "\u001b[1;31mAttributeError\u001b[0m: 'Workbook' object has no attribute 'get_sheet_name'"
     ]
    }
   ],
   "source": [
    "import xlrd\n",
    "import unicodecsv\n",
    "import openpyxl\n",
    "\n",
    "def xls2csv (xls_filename, csv_filename):\n",
    "    # Converts an Excel file to a CSV file.\n",
    "    # If the excel file has multiple worksheets, only the first worksheet is converted.\n",
    "    # Uses unicodecsv, so it will handle Unicode characters.\n",
    "    # Uses a recent version of xlrd, so it should handle old .xls and new .xlsx equally well.\n",
    "\n",
    "    wb = openpyxl.load_workbook(xls_filename)\n",
    "    sh = wb.get_sheet_name()\n",
    "\n",
    "    fh = open(csv_filename,\"wb\")\n",
    "    csv_out = unicodecsv.writer(fh, encoding='utf-8')\n",
    "\n",
    "    for row_number in range(sh.nrows):\n",
    "        csv_out.writerow(sh.row_values(row_number))\n",
    "\n",
    "    fh.close()\n",
    "\n",
    "xls2csv(\"./iris_data.xlsx\",\"./output.csv\" )"
   ]
  }
 ],
 "metadata": {
  "kernelspec": {
   "display_name": "Python 3",
   "language": "python",
   "name": "python3"
  },
  "language_info": {
   "codemirror_mode": {
    "name": "ipython",
    "version": 3
   },
   "file_extension": ".py",
   "mimetype": "text/x-python",
   "name": "python",
   "nbconvert_exporter": "python",
   "pygments_lexer": "ipython3",
   "version": "3.7.1"
  }
 },
 "nbformat": 4,
 "nbformat_minor": 2
}
